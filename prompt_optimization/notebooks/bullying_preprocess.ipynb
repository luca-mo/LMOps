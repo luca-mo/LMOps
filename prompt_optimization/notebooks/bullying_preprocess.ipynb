{
 "cells": [
  {
   "cell_type": "code",
   "id": "initial_id",
   "metadata": {
    "collapsed": true,
    "ExecuteTime": {
     "end_time": "2024-04-12T13:28:40.679808Z",
     "start_time": "2024-04-12T13:28:39.877298Z"
    }
   },
   "source": [
    "import pandas as pd\n",
    "from sklearn.model_selection import train_test_split\n",
    "import json\n",
    "\n",
    "# Replace 'path_to_csv.csv' with the path to your actual CSV file\n",
    "df = pd.read_csv('../data/bullying/cyberbullying_tweets.csv')\n"
   ],
   "outputs": [],
   "execution_count": 1
  },
  {
   "cell_type": "code",
   "source": [
    "df.info()"
   ],
   "metadata": {
    "collapsed": false,
    "ExecuteTime": {
     "end_time": "2024-04-12T13:28:40.692727Z",
     "start_time": "2024-04-12T13:28:40.680745Z"
    }
   },
   "id": "730cec39d0e65697",
   "outputs": [
    {
     "name": "stdout",
     "output_type": "stream",
     "text": [
      "<class 'pandas.core.frame.DataFrame'>\n",
      "RangeIndex: 47692 entries, 0 to 47691\n",
      "Data columns (total 2 columns):\n",
      " #   Column              Non-Null Count  Dtype \n",
      "---  ------              --------------  ----- \n",
      " 0   tweet_text          47692 non-null  object\n",
      " 1   cyberbullying_type  47692 non-null  object\n",
      "dtypes: object(2)\n",
      "memory usage: 745.3+ KB\n"
     ]
    }
   ],
   "execution_count": 2
  },
  {
   "cell_type": "code",
   "source": [
    "df.head()"
   ],
   "metadata": {
    "collapsed": false,
    "ExecuteTime": {
     "end_time": "2024-04-12T13:28:40.699225Z",
     "start_time": "2024-04-12T13:28:40.693434Z"
    }
   },
   "id": "67a641219d7dd37d",
   "outputs": [
    {
     "data": {
      "text/plain": [
       "                                          tweet_text cyberbullying_type\n",
       "0  In other words #katandandre, your food was cra...  not_cyberbullying\n",
       "1  Why is #aussietv so white? #MKR #theblock #ImA...  not_cyberbullying\n",
       "2  @XochitlSuckkks a classy whore? Or more red ve...  not_cyberbullying\n",
       "3  @Jason_Gio meh. :P  thanks for the heads up, b...  not_cyberbullying\n",
       "4  @RudhoeEnglish This is an ISIS account pretend...  not_cyberbullying"
      ],
      "text/html": [
       "<div>\n",
       "<style scoped>\n",
       "    .dataframe tbody tr th:only-of-type {\n",
       "        vertical-align: middle;\n",
       "    }\n",
       "\n",
       "    .dataframe tbody tr th {\n",
       "        vertical-align: top;\n",
       "    }\n",
       "\n",
       "    .dataframe thead th {\n",
       "        text-align: right;\n",
       "    }\n",
       "</style>\n",
       "<table border=\"1\" class=\"dataframe\">\n",
       "  <thead>\n",
       "    <tr style=\"text-align: right;\">\n",
       "      <th></th>\n",
       "      <th>tweet_text</th>\n",
       "      <th>cyberbullying_type</th>\n",
       "    </tr>\n",
       "  </thead>\n",
       "  <tbody>\n",
       "    <tr>\n",
       "      <th>0</th>\n",
       "      <td>In other words #katandandre, your food was cra...</td>\n",
       "      <td>not_cyberbullying</td>\n",
       "    </tr>\n",
       "    <tr>\n",
       "      <th>1</th>\n",
       "      <td>Why is #aussietv so white? #MKR #theblock #ImA...</td>\n",
       "      <td>not_cyberbullying</td>\n",
       "    </tr>\n",
       "    <tr>\n",
       "      <th>2</th>\n",
       "      <td>@XochitlSuckkks a classy whore? Or more red ve...</td>\n",
       "      <td>not_cyberbullying</td>\n",
       "    </tr>\n",
       "    <tr>\n",
       "      <th>3</th>\n",
       "      <td>@Jason_Gio meh. :P  thanks for the heads up, b...</td>\n",
       "      <td>not_cyberbullying</td>\n",
       "    </tr>\n",
       "    <tr>\n",
       "      <th>4</th>\n",
       "      <td>@RudhoeEnglish This is an ISIS account pretend...</td>\n",
       "      <td>not_cyberbullying</td>\n",
       "    </tr>\n",
       "  </tbody>\n",
       "</table>\n",
       "</div>"
      ]
     },
     "execution_count": 3,
     "metadata": {},
     "output_type": "execute_result"
    }
   ],
   "execution_count": 3
  },
  {
   "cell_type": "code",
   "source": [
    "# Count the datapoints for each class in the 'cyberbullying_type' column\n",
    "df['cyberbullying_type'].value_counts()"
   ],
   "metadata": {
    "collapsed": false,
    "ExecuteTime": {
     "end_time": "2024-04-12T13:28:40.704719Z",
     "start_time": "2024-04-12T13:28:40.700502Z"
    }
   },
   "id": "ac0ae188ed56760",
   "outputs": [
    {
     "data": {
      "text/plain": [
       "cyberbullying_type\n",
       "religion               7998\n",
       "age                    7992\n",
       "gender                 7973\n",
       "ethnicity              7961\n",
       "not_cyberbullying      7945\n",
       "other_cyberbullying    7823\n",
       "Name: count, dtype: int64"
      ]
     },
     "execution_count": 4,
     "metadata": {},
     "output_type": "execute_result"
    }
   ],
   "execution_count": 4
  },
  {
   "cell_type": "code",
   "source": [
    "# Shuffle before downsampling\n",
    "df = df.sample(frac=1, random_state=42).reset_index(drop=True)\n",
    "\n",
    "\n",
    "# Set class counts\n",
    "downsample = {\n",
    "    'religion': 1564,\n",
    "    'age': 1564,\n",
    "    'gender': 1564,\n",
    "    'ethnicity': 1564,\n",
    "    'other_cyberbullying': 1564,\n",
    "    'not_cyberbullying': 7820\n",
    "}\n",
    "\n",
    "# Downsample each class\n",
    "downsampled_dfs = []\n",
    "for category, count in downsample.items():\n",
    "    downsampled_dfs.append(df[df['cyberbullying_type'] == category].head(count))\n",
    "\n",
    "# Combine the downsampled dataframes\n",
    "df = pd.concat(downsampled_dfs)\n",
    "\n",
    "# Shuffle the combined dataframe for good measure (though it's already reproducible due to head)\n",
    "df = df.sample(frac=1, random_state=42).reset_index(drop=True)"
   ],
   "metadata": {
    "collapsed": false,
    "ExecuteTime": {
     "end_time": "2024-04-12T13:28:40.723793Z",
     "start_time": "2024-04-12T13:28:40.705257Z"
    }
   },
   "id": "7a3a333047529e2",
   "outputs": [],
   "execution_count": 5
  },
  {
   "cell_type": "code",
   "source": [
    "df['cyberbullying_type'].value_counts()"
   ],
   "metadata": {
    "collapsed": false,
    "ExecuteTime": {
     "end_time": "2024-04-12T13:28:40.728131Z",
     "start_time": "2024-04-12T13:28:40.724434Z"
    }
   },
   "id": "28db234ef663417a",
   "outputs": [
    {
     "data": {
      "text/plain": [
       "cyberbullying_type\n",
       "not_cyberbullying      7820\n",
       "ethnicity              1564\n",
       "age                    1564\n",
       "other_cyberbullying    1564\n",
       "religion               1564\n",
       "gender                 1564\n",
       "Name: count, dtype: int64"
      ]
     },
     "execution_count": 6,
     "metadata": {},
     "output_type": "execute_result"
    }
   ],
   "execution_count": 6
  },
  {
   "cell_type": "code",
   "source": [
    "# Encode the classes: 'not_cyberbullying' as 0, all others as 1\n",
    "df['label'] = df['cyberbullying_type'].apply(lambda x: 0 if x == 'not_cyberbullying' else 1)\n",
    "\n",
    "df['label'].value_counts()\n"
   ],
   "metadata": {
    "collapsed": false,
    "ExecuteTime": {
     "end_time": "2024-04-12T13:28:40.735162Z",
     "start_time": "2024-04-12T13:28:40.728642Z"
    }
   },
   "id": "1e353fbf59a8937a",
   "outputs": [
    {
     "data": {
      "text/plain": [
       "label\n",
       "1    7820\n",
       "0    7820\n",
       "Name: count, dtype: int64"
      ]
     },
     "execution_count": 7,
     "metadata": {},
     "output_type": "execute_result"
    }
   ],
   "execution_count": 7
  },
  {
   "cell_type": "code",
   "source": [
    "# Drop categorical labels\n",
    "df.drop(columns='cyberbullying_type', inplace=True)"
   ],
   "metadata": {
    "collapsed": false,
    "ExecuteTime": {
     "end_time": "2024-04-12T13:28:40.739252Z",
     "start_time": "2024-04-12T13:28:40.735859Z"
    }
   },
   "id": "84de395a3f51e91f",
   "outputs": [],
   "execution_count": 8
  },
  {
   "metadata": {
    "ExecuteTime": {
     "end_time": "2024-04-12T13:28:40.742199Z",
     "start_time": "2024-04-12T13:28:40.739782Z"
    }
   },
   "cell_type": "code",
   "source": [
    "# Rename text column\n",
    "df = df.rename(columns={'tweet_text': 'text'})"
   ],
   "id": "824f9fb324850c36",
   "outputs": [],
   "execution_count": 9
  },
  {
   "cell_type": "code",
   "source": [
    "df.head(100)"
   ],
   "metadata": {
    "collapsed": false,
    "ExecuteTime": {
     "end_time": "2024-04-12T13:28:40.748620Z",
     "start_time": "2024-04-12T13:28:40.744178Z"
    }
   },
   "id": "9014244832bd8851",
   "outputs": [
    {
     "data": {
      "text/plain": [
       "                                                 text  label\n",
       "0                 i'd fuck amanda scotto. -dumb nigga      1\n",
       "1   @Kickyfast @bonegolem @Totalbiscuit @srhbutts ...      0\n",
       "2   Já sofri bullying com a música: \" olha lá quem...      0\n",
       "3   @TheNativeBoy @SaudiNews50 http://t.co/UHwvIP0HP6      0\n",
       "4   More people die of drug overdose/ perscription...      0\n",
       "..                                                ...    ...\n",
       "95  RT @RavenHUWolf: @AlArabiya_Eng \"BUT\" ... the ...      0\n",
       "96  RT @lomifeh: @freebsdgirl It’s worse.  Happene...      1\n",
       "97  If you fear your child is being bullied, this ...      0\n",
       "98  And yet if a woman should \"not mince words\" yo...      1\n",
       "99  Wishing all F.C.E kano and other colleges of e...      0\n",
       "\n",
       "[100 rows x 2 columns]"
      ],
      "text/html": [
       "<div>\n",
       "<style scoped>\n",
       "    .dataframe tbody tr th:only-of-type {\n",
       "        vertical-align: middle;\n",
       "    }\n",
       "\n",
       "    .dataframe tbody tr th {\n",
       "        vertical-align: top;\n",
       "    }\n",
       "\n",
       "    .dataframe thead th {\n",
       "        text-align: right;\n",
       "    }\n",
       "</style>\n",
       "<table border=\"1\" class=\"dataframe\">\n",
       "  <thead>\n",
       "    <tr style=\"text-align: right;\">\n",
       "      <th></th>\n",
       "      <th>text</th>\n",
       "      <th>label</th>\n",
       "    </tr>\n",
       "  </thead>\n",
       "  <tbody>\n",
       "    <tr>\n",
       "      <th>0</th>\n",
       "      <td>i'd fuck amanda scotto. -dumb nigga</td>\n",
       "      <td>1</td>\n",
       "    </tr>\n",
       "    <tr>\n",
       "      <th>1</th>\n",
       "      <td>@Kickyfast @bonegolem @Totalbiscuit @srhbutts ...</td>\n",
       "      <td>0</td>\n",
       "    </tr>\n",
       "    <tr>\n",
       "      <th>2</th>\n",
       "      <td>Já sofri bullying com a música: \" olha lá quem...</td>\n",
       "      <td>0</td>\n",
       "    </tr>\n",
       "    <tr>\n",
       "      <th>3</th>\n",
       "      <td>@TheNativeBoy @SaudiNews50 http://t.co/UHwvIP0HP6</td>\n",
       "      <td>0</td>\n",
       "    </tr>\n",
       "    <tr>\n",
       "      <th>4</th>\n",
       "      <td>More people die of drug overdose/ perscription...</td>\n",
       "      <td>0</td>\n",
       "    </tr>\n",
       "    <tr>\n",
       "      <th>...</th>\n",
       "      <td>...</td>\n",
       "      <td>...</td>\n",
       "    </tr>\n",
       "    <tr>\n",
       "      <th>95</th>\n",
       "      <td>RT @RavenHUWolf: @AlArabiya_Eng \"BUT\" ... the ...</td>\n",
       "      <td>0</td>\n",
       "    </tr>\n",
       "    <tr>\n",
       "      <th>96</th>\n",
       "      <td>RT @lomifeh: @freebsdgirl It’s worse.  Happene...</td>\n",
       "      <td>1</td>\n",
       "    </tr>\n",
       "    <tr>\n",
       "      <th>97</th>\n",
       "      <td>If you fear your child is being bullied, this ...</td>\n",
       "      <td>0</td>\n",
       "    </tr>\n",
       "    <tr>\n",
       "      <th>98</th>\n",
       "      <td>And yet if a woman should \"not mince words\" yo...</td>\n",
       "      <td>1</td>\n",
       "    </tr>\n",
       "    <tr>\n",
       "      <th>99</th>\n",
       "      <td>Wishing all F.C.E kano and other colleges of e...</td>\n",
       "      <td>0</td>\n",
       "    </tr>\n",
       "  </tbody>\n",
       "</table>\n",
       "<p>100 rows × 2 columns</p>\n",
       "</div>"
      ]
     },
     "execution_count": 10,
     "metadata": {},
     "output_type": "execute_result"
    }
   ],
   "execution_count": 10
  },
  {
   "metadata": {
    "ExecuteTime": {
     "end_time": "2024-04-12T13:28:40.789905Z",
     "start_time": "2024-04-12T13:28:40.749214Z"
    }
   },
   "cell_type": "code",
   "source": [
    "# Split the data\n",
    "train_df, test_df = train_test_split(df, test_size=0.2, random_state=42)\n",
    "\n",
    "# Save as jsonl\n",
    "def save_as_jsonl(dataframe, filename):\n",
    "    dataframe = dataframe.rename(columns={'tweet text': 'text'})\n",
    "    records = dataframe.to_dict(orient='records')\n",
    "    with open(filename, 'w') as f:\n",
    "        for record in records:\n",
    "            f.write(json.dumps(record) + '\\n')\n",
    "\n",
    "# Convert to JSON Lines and save\n",
    "save_as_jsonl(train_df, '../data/bullying/train.jsonl')\n",
    "save_as_jsonl(test_df, '../data/bullying/test.jsonl')\n"
   ],
   "id": "f1b830f80e0f52b",
   "outputs": [],
   "execution_count": 11
  }
 ],
 "metadata": {
  "kernelspec": {
   "display_name": "Python 3",
   "language": "python",
   "name": "python3"
  },
  "language_info": {
   "codemirror_mode": {
    "name": "ipython",
    "version": 2
   },
   "file_extension": ".py",
   "mimetype": "text/x-python",
   "name": "python",
   "nbconvert_exporter": "python",
   "pygments_lexer": "ipython2",
   "version": "2.7.6"
  }
 },
 "nbformat": 4,
 "nbformat_minor": 5
}
