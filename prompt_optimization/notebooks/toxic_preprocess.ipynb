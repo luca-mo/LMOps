{
 "cells": [
  {
   "cell_type": "code",
   "id": "initial_id",
   "metadata": {
    "collapsed": true,
    "ExecuteTime": {
     "end_time": "2024-05-11T20:02:32.289968Z",
     "start_time": "2024-05-11T20:02:31.576697Z"
    }
   },
   "source": [
    "import pandas as pd\n",
    "from sklearn.model_selection import train_test_split\n",
    "import json\n",
    "import matplotlib.pyplot as plt\n",
    "import seaborn as sns\n",
    "\n",
    "# Replace 'path_to_csv.csv' with the path to your actual CSV file\n",
    "df = pd.read_csv('../data/toxic/toxic_comments.csv')\n"
   ],
   "outputs": [],
   "execution_count": 1
  },
  {
   "cell_type": "code",
   "source": [
    "df.info()"
   ],
   "metadata": {
    "collapsed": false,
    "ExecuteTime": {
     "end_time": "2024-05-11T20:02:32.310211Z",
     "start_time": "2024-05-11T20:02:32.290689Z"
    }
   },
   "id": "730cec39d0e65697",
   "outputs": [
    {
     "name": "stdout",
     "output_type": "stream",
     "text": [
      "<class 'pandas.core.frame.DataFrame'>\n",
      "RangeIndex: 159571 entries, 0 to 159570\n",
      "Data columns (total 8 columns):\n",
      " #   Column         Non-Null Count   Dtype \n",
      "---  ------         --------------   ----- \n",
      " 0   id             159571 non-null  object\n",
      " 1   comment_text   159571 non-null  object\n",
      " 2   toxic          159571 non-null  int64 \n",
      " 3   severe_toxic   159571 non-null  int64 \n",
      " 4   obscene        159571 non-null  int64 \n",
      " 5   threat         159571 non-null  int64 \n",
      " 6   insult         159571 non-null  int64 \n",
      " 7   identity_hate  159571 non-null  int64 \n",
      "dtypes: int64(6), object(2)\n",
      "memory usage: 9.7+ MB\n"
     ]
    }
   ],
   "execution_count": 2
  },
  {
   "cell_type": "code",
   "source": "df.head()",
   "metadata": {
    "collapsed": false,
    "ExecuteTime": {
     "end_time": "2024-05-11T20:02:32.316924Z",
     "start_time": "2024-05-11T20:02:32.311373Z"
    }
   },
   "id": "67a641219d7dd37d",
   "outputs": [
    {
     "data": {
      "text/plain": [
       "                 id                                       comment_text  toxic  \\\n",
       "0  0000997932d777bf  Explanation\\nWhy the edits made under my usern...      0   \n",
       "1  000103f0d9cfb60f  D'aww! He matches this background colour I'm s...      0   \n",
       "2  000113f07ec002fd  Hey man, I'm really not trying to edit war. It...      0   \n",
       "3  0001b41b1c6bb37e  \"\\nMore\\nI can't make any real suggestions on ...      0   \n",
       "4  0001d958c54c6e35  You, sir, are my hero. Any chance you remember...      0   \n",
       "\n",
       "   severe_toxic  obscene  threat  insult  identity_hate  \n",
       "0             0        0       0       0              0  \n",
       "1             0        0       0       0              0  \n",
       "2             0        0       0       0              0  \n",
       "3             0        0       0       0              0  \n",
       "4             0        0       0       0              0  "
      ],
      "text/html": [
       "<div>\n",
       "<style scoped>\n",
       "    .dataframe tbody tr th:only-of-type {\n",
       "        vertical-align: middle;\n",
       "    }\n",
       "\n",
       "    .dataframe tbody tr th {\n",
       "        vertical-align: top;\n",
       "    }\n",
       "\n",
       "    .dataframe thead th {\n",
       "        text-align: right;\n",
       "    }\n",
       "</style>\n",
       "<table border=\"1\" class=\"dataframe\">\n",
       "  <thead>\n",
       "    <tr style=\"text-align: right;\">\n",
       "      <th></th>\n",
       "      <th>id</th>\n",
       "      <th>comment_text</th>\n",
       "      <th>toxic</th>\n",
       "      <th>severe_toxic</th>\n",
       "      <th>obscene</th>\n",
       "      <th>threat</th>\n",
       "      <th>insult</th>\n",
       "      <th>identity_hate</th>\n",
       "    </tr>\n",
       "  </thead>\n",
       "  <tbody>\n",
       "    <tr>\n",
       "      <th>0</th>\n",
       "      <td>0000997932d777bf</td>\n",
       "      <td>Explanation\\nWhy the edits made under my usern...</td>\n",
       "      <td>0</td>\n",
       "      <td>0</td>\n",
       "      <td>0</td>\n",
       "      <td>0</td>\n",
       "      <td>0</td>\n",
       "      <td>0</td>\n",
       "    </tr>\n",
       "    <tr>\n",
       "      <th>1</th>\n",
       "      <td>000103f0d9cfb60f</td>\n",
       "      <td>D'aww! He matches this background colour I'm s...</td>\n",
       "      <td>0</td>\n",
       "      <td>0</td>\n",
       "      <td>0</td>\n",
       "      <td>0</td>\n",
       "      <td>0</td>\n",
       "      <td>0</td>\n",
       "    </tr>\n",
       "    <tr>\n",
       "      <th>2</th>\n",
       "      <td>000113f07ec002fd</td>\n",
       "      <td>Hey man, I'm really not trying to edit war. It...</td>\n",
       "      <td>0</td>\n",
       "      <td>0</td>\n",
       "      <td>0</td>\n",
       "      <td>0</td>\n",
       "      <td>0</td>\n",
       "      <td>0</td>\n",
       "    </tr>\n",
       "    <tr>\n",
       "      <th>3</th>\n",
       "      <td>0001b41b1c6bb37e</td>\n",
       "      <td>\"\\nMore\\nI can't make any real suggestions on ...</td>\n",
       "      <td>0</td>\n",
       "      <td>0</td>\n",
       "      <td>0</td>\n",
       "      <td>0</td>\n",
       "      <td>0</td>\n",
       "      <td>0</td>\n",
       "    </tr>\n",
       "    <tr>\n",
       "      <th>4</th>\n",
       "      <td>0001d958c54c6e35</td>\n",
       "      <td>You, sir, are my hero. Any chance you remember...</td>\n",
       "      <td>0</td>\n",
       "      <td>0</td>\n",
       "      <td>0</td>\n",
       "      <td>0</td>\n",
       "      <td>0</td>\n",
       "      <td>0</td>\n",
       "    </tr>\n",
       "  </tbody>\n",
       "</table>\n",
       "</div>"
      ]
     },
     "execution_count": 3,
     "metadata": {},
     "output_type": "execute_result"
    }
   ],
   "execution_count": 3
  },
  {
   "metadata": {
    "ExecuteTime": {
     "end_time": "2024-05-11T20:02:32.321384Z",
     "start_time": "2024-05-11T20:02:32.317500Z"
    }
   },
   "cell_type": "code",
   "source": [
    "# Check if all rows with a 1 in any category other than 'toxic' also have a 1 in 'toxic'\n",
    "columns_to_check = ['severe_toxic', 'obscene', 'threat', 'insult', 'identity_hate']\n",
    "\n",
    "# Filter rows where any label column except 'toxic' has a 1 and 'toxic' is 0\n",
    "mismatch_count = df[(df[columns_to_check] == 1).any(axis=1) & (df['toxic'] == 0)].shape[0]\n",
    "\n",
    "print(\"Number of rows with label mismatch:\", mismatch_count)\n"
   ],
   "id": "e42f5843d8bbe8ee",
   "outputs": [
    {
     "name": "stdout",
     "output_type": "stream",
     "text": [
      "Number of rows with label mismatch: 931\n"
     ]
    }
   ],
   "execution_count": 4
  },
  {
   "metadata": {
    "ExecuteTime": {
     "end_time": "2024-05-11T20:02:32.328701Z",
     "start_time": "2024-05-11T20:02:32.321943Z"
    }
   },
   "cell_type": "code",
   "source": [
    "label_columns = ['toxic', 'severe_toxic', 'obscene', 'threat', 'insult', 'identity_hate']\n",
    "\n",
    "for column in label_columns:\n",
    "    print(df[column].value_counts())\n",
    "    print(\"\\n\")\n"
   ],
   "id": "59c1374b1c4908ee",
   "outputs": [
    {
     "name": "stdout",
     "output_type": "stream",
     "text": [
      "toxic\n",
      "0    144277\n",
      "1     15294\n",
      "Name: count, dtype: int64\n",
      "\n",
      "\n",
      "severe_toxic\n",
      "0    157976\n",
      "1      1595\n",
      "Name: count, dtype: int64\n",
      "\n",
      "\n",
      "obscene\n",
      "0    151122\n",
      "1      8449\n",
      "Name: count, dtype: int64\n",
      "\n",
      "\n",
      "threat\n",
      "0    159093\n",
      "1       478\n",
      "Name: count, dtype: int64\n",
      "\n",
      "\n",
      "insult\n",
      "0    151694\n",
      "1      7877\n",
      "Name: count, dtype: int64\n",
      "\n",
      "\n",
      "identity_hate\n",
      "0    158166\n",
      "1      1405\n",
      "Name: count, dtype: int64\n",
      "\n",
      "\n"
     ]
    }
   ],
   "execution_count": 5
  },
  {
   "metadata": {
    "ExecuteTime": {
     "end_time": "2024-05-11T20:02:32.424022Z",
     "start_time": "2024-05-11T20:02:32.329272Z"
    }
   },
   "cell_type": "code",
   "source": [
    "# Calculate average token length\n",
    "average_token_length = df['comment_text'].str.len().mean()\n",
    "\n",
    "# Calculate median token length\n",
    "median_token_length = df['comment_text'].str.len().median()\n",
    "\n",
    "# Calculate quantiles\n",
    "quantiles = df['comment_text'].str.len().quantile([0.25, 0.5, 0.75, 0.95])\n",
    "\n",
    "# Print results\n",
    "print(\"Average token length:\", average_token_length)\n",
    "print(\"Median token length:\", median_token_length)\n",
    "print(\"Quantiles for token length:\")\n",
    "print(\"25th percentile (Q1):\", quantiles[0.25])\n",
    "print(\"Median (Q2):\", quantiles[0.5])\n",
    "print(\"75th percentile (Q3):\", quantiles[0.75])\n",
    "print(\"95th percentile:\", quantiles[0.95])\n"
   ],
   "id": "54dc9b287f9b1687",
   "outputs": [
    {
     "name": "stdout",
     "output_type": "stream",
     "text": [
      "Average token length: 394.0732213246768\n",
      "Median token length: 205.0\n",
      "Quantiles for token length:\n",
      "25th percentile (Q1): 96.0\n",
      "Median (Q2): 205.0\n",
      "75th percentile (Q3): 435.0\n",
      "95th percentile: 1355.0\n"
     ]
    }
   ],
   "execution_count": 6
  },
  {
   "metadata": {
    "ExecuteTime": {
     "end_time": "2024-05-11T20:02:33.262830Z",
     "start_time": "2024-05-11T20:02:32.425162Z"
    }
   },
   "cell_type": "code",
   "source": [
    "# Build boxplot about token distribution\n",
    "\n",
    "# Calculate the token lengths\n",
    "df['token_length'] = df['comment_text'].str.len()\n",
    "\n",
    "# Set the style of the seaborn plot\n",
    "sns.set(style=\"whitegrid\")\n",
    "\n",
    "# Create the boxplot\n",
    "plt.figure(figsize=(10, 6))  # Set the figure size\n",
    "boxplot = sns.boxplot(x=df['token_length'])\n",
    "\n",
    "boxplot.axvline(x=200, color='r', linestyle='--', label='400 Token Cutoff')  # Mark the cutoff point\n",
    "plt.title('Distribution of Comment Token Lengths')  # Add a title\n",
    "plt.xlabel('Token Length')  # Label the x-axis\n",
    "plt.legend()  # Add legend to the plot\n",
    "\n",
    "# Save plot as png\n",
    "plt.savefig('token_length_distribution.png', dpi=300)\n",
    "\n",
    "# Show the plot\n",
    "plt.show()"
   ],
   "id": "6d8bc9124d45115e",
   "outputs": [
    {
     "data": {
      "text/plain": [
       "<Figure size 1000x600 with 1 Axes>"
      ],
      "image/png": "[encoded data removed]"
     },
     "metadata": {},
     "output_type": "display_data"
    }
   ],
   "execution_count": 7
  },
  {
   "metadata": {
    "ExecuteTime": {
     "end_time": "2024-05-11T20:02:33.329195Z",
     "start_time": "2024-05-11T20:02:33.264857Z"
    }
   },
   "cell_type": "code",
   "source": [
    "defined_token_length = 200  # Define token cutoff\n",
    "\n",
    "df = df[df['comment_text'].str.len() <= defined_token_length]\n"
   ],
   "id": "c59d1dbd0eddb0d2",
   "outputs": [],
   "execution_count": 8
  },
  {
   "metadata": {
    "ExecuteTime": {
     "end_time": "2024-05-11T20:02:33.345492Z",
     "start_time": "2024-05-11T20:02:33.332829Z"
    }
   },
   "cell_type": "code",
   "source": [
    "label_columns = ['toxic', 'severe_toxic', 'obscene', 'threat', 'insult', 'identity_hate']\n",
    "\n",
    "for column in label_columns:\n",
    "    print(df[column].value_counts())\n",
    "    print(\"\\n\")\n"
   ],
   "id": "293ec4a2be973a29",
   "outputs": [
    {
     "name": "stdout",
     "output_type": "stream",
     "text": [
      "toxic\n",
      "0    68355\n",
      "1    10150\n",
      "Name: count, dtype: int64\n",
      "\n",
      "\n",
      "severe_toxic\n",
      "0    77336\n",
      "1     1169\n",
      "Name: count, dtype: int64\n",
      "\n",
      "\n",
      "obscene\n",
      "0    72653\n",
      "1     5852\n",
      "Name: count, dtype: int64\n",
      "\n",
      "\n",
      "threat\n",
      "0    78169\n",
      "1      336\n",
      "Name: count, dtype: int64\n",
      "\n",
      "\n",
      "insult\n",
      "0    73036\n",
      "1     5469\n",
      "Name: count, dtype: int64\n",
      "\n",
      "\n",
      "identity_hate\n",
      "0    77545\n",
      "1      960\n",
      "Name: count, dtype: int64\n",
      "\n",
      "\n"
     ]
    }
   ],
   "execution_count": 9
  },
  {
   "cell_type": "code",
   "source": [
    "# Filter and rename columns\n",
    "df = df[['comment_text', 'toxic']]\n",
    "df.columns = ['text', 'label']"
   ],
   "metadata": {
    "collapsed": false,
    "ExecuteTime": {
     "end_time": "2024-05-11T20:02:33.353794Z",
     "start_time": "2024-05-11T20:02:33.347589Z"
    }
   },
   "id": "ac0ae188ed56760",
   "outputs": [],
   "execution_count": 10
  },
  {
   "metadata": {
    "ExecuteTime": {
     "end_time": "2024-05-11T20:02:33.359769Z",
     "start_time": "2024-05-11T20:02:33.355032Z"
    }
   },
   "cell_type": "code",
   "source": "df.head()",
   "id": "6189458f817cbf7a",
   "outputs": [
    {
     "data": {
      "text/plain": [
       "                                                text  label\n",
       "1  D'aww! He matches this background colour I'm s...      0\n",
       "4  You, sir, are my hero. Any chance you remember...      0\n",
       "5  \"\\n\\nCongratulations from me as well, use the ...      0\n",
       "6       COCKSUCKER BEFORE YOU PISS AROUND ON MY WORK      1\n",
       "7  Your vandalism to the Matt Shirvington article...      0"
      ],
      "text/html": [
       "<div>\n",
       "<style scoped>\n",
       "    .dataframe tbody tr th:only-of-type {\n",
       "        vertical-align: middle;\n",
       "    }\n",
       "\n",
       "    .dataframe tbody tr th {\n",
       "        vertical-align: top;\n",
       "    }\n",
       "\n",
       "    .dataframe thead th {\n",
       "        text-align: right;\n",
       "    }\n",
       "</style>\n",
       "<table border=\"1\" class=\"dataframe\">\n",
       "  <thead>\n",
       "    <tr style=\"text-align: right;\">\n",
       "      <th></th>\n",
       "      <th>text</th>\n",
       "      <th>label</th>\n",
       "    </tr>\n",
       "  </thead>\n",
       "  <tbody>\n",
       "    <tr>\n",
       "      <th>1</th>\n",
       "      <td>D'aww! He matches this background colour I'm s...</td>\n",
       "      <td>0</td>\n",
       "    </tr>\n",
       "    <tr>\n",
       "      <th>4</th>\n",
       "      <td>You, sir, are my hero. Any chance you remember...</td>\n",
       "      <td>0</td>\n",
       "    </tr>\n",
       "    <tr>\n",
       "      <th>5</th>\n",
       "      <td>\"\\n\\nCongratulations from me as well, use the ...</td>\n",
       "      <td>0</td>\n",
       "    </tr>\n",
       "    <tr>\n",
       "      <th>6</th>\n",
       "      <td>COCKSUCKER BEFORE YOU PISS AROUND ON MY WORK</td>\n",
       "      <td>1</td>\n",
       "    </tr>\n",
       "    <tr>\n",
       "      <th>7</th>\n",
       "      <td>Your vandalism to the Matt Shirvington article...</td>\n",
       "      <td>0</td>\n",
       "    </tr>\n",
       "  </tbody>\n",
       "</table>\n",
       "</div>"
      ]
     },
     "execution_count": 11,
     "metadata": {},
     "output_type": "execute_result"
    }
   ],
   "execution_count": 11
  },
  {
   "metadata": {
    "ExecuteTime": {
     "end_time": "2024-05-11T20:02:33.366859Z",
     "start_time": "2024-05-11T20:02:33.360428Z"
    }
   },
   "cell_type": "code",
   "source": "df.info()",
   "id": "10e8557182b26705",
   "outputs": [
    {
     "name": "stdout",
     "output_type": "stream",
     "text": [
      "<class 'pandas.core.frame.DataFrame'>\n",
      "Index: 78505 entries, 1 to 159570\n",
      "Data columns (total 2 columns):\n",
      " #   Column  Non-Null Count  Dtype \n",
      "---  ------  --------------  ----- \n",
      " 0   text    78505 non-null  object\n",
      " 1   label   78505 non-null  int64 \n",
      "dtypes: int64(1), object(1)\n",
      "memory usage: 1.8+ MB\n"
     ]
    }
   ],
   "execution_count": 12
  },
  {
   "metadata": {
    "ExecuteTime": {
     "end_time": "2024-05-11T20:02:33.370533Z",
     "start_time": "2024-05-11T20:02:33.367863Z"
    }
   },
   "cell_type": "code",
   "source": "df['label'].value_counts()",
   "id": "a16e34d1e3204ffe",
   "outputs": [
    {
     "data": {
      "text/plain": [
       "label\n",
       "0    68355\n",
       "1    10150\n",
       "Name: count, dtype: int64"
      ]
     },
     "execution_count": 13,
     "metadata": {},
     "output_type": "execute_result"
    }
   ],
   "execution_count": 13
  },
  {
   "cell_type": "code",
   "source": [
    "# Shuffle before downsampling\n",
    "df = df.sample(frac=1, random_state=42).reset_index(drop=True)\n",
    "\n",
    "# Target count for both classes\n",
    "downsample_count = 10000  \n",
    "\n",
    "# Function to downsample\n",
    "downsampled_dfs = []\n",
    "for label_value in df['label'].unique():  # Get unique values of the label column\n",
    "    downsampled_dfs.append(df[df['label'] == label_value].head(downsample_count))\n",
    "\n",
    "# Combine downsampled dfs and shuffle\n",
    "df = pd.concat(downsampled_dfs)\n",
    "df = df.sample(frac=1, random_state=42).reset_index(drop=True)\n"
   ],
   "metadata": {
    "collapsed": false,
    "ExecuteTime": {
     "end_time": "2024-05-11T20:02:33.396058Z",
     "start_time": "2024-05-11T20:02:33.371497Z"
    }
   },
   "id": "7a3a333047529e2",
   "outputs": [],
   "execution_count": 14
  },
  {
   "cell_type": "code",
   "source": "df['label'].value_counts()",
   "metadata": {
    "collapsed": false,
    "ExecuteTime": {
     "end_time": "2024-05-11T20:02:33.407747Z",
     "start_time": "2024-05-11T20:02:33.398874Z"
    }
   },
   "id": "28db234ef663417a",
   "outputs": [
    {
     "data": {
      "text/plain": [
       "label\n",
       "1    10000\n",
       "0    10000\n",
       "Name: count, dtype: int64"
      ]
     },
     "execution_count": 15,
     "metadata": {},
     "output_type": "execute_result"
    }
   ],
   "execution_count": 15
  },
  {
   "cell_type": "code",
   "source": "df.head()",
   "metadata": {
    "collapsed": false,
    "ExecuteTime": {
     "end_time": "2024-05-11T20:02:33.421998Z",
     "start_time": "2024-05-11T20:02:33.410786Z"
    }
   },
   "id": "1e353fbf59a8937a",
   "outputs": [
    {
     "data": {
      "text/plain": [
       "                                                text  label\n",
       "0  fuck u \\n\\nIf you our gonna make a list make s...      1\n",
       "1                  live your life to the fungas max.      0\n",
       "2                   I smell like octopus poo and wee      0\n",
       "3  \"\\nSupport - Article is well written but too l...      0\n",
       "4  , 9 April 2008 (UTC)\\n*cuts a loud fart* 136.1...      1"
      ],
      "text/html": [
       "<div>\n",
       "<style scoped>\n",
       "    .dataframe tbody tr th:only-of-type {\n",
       "        vertical-align: middle;\n",
       "    }\n",
       "\n",
       "    .dataframe tbody tr th {\n",
       "        vertical-align: top;\n",
       "    }\n",
       "\n",
       "    .dataframe thead th {\n",
       "        text-align: right;\n",
       "    }\n",
       "</style>\n",
       "<table border=\"1\" class=\"dataframe\">\n",
       "  <thead>\n",
       "    <tr style=\"text-align: right;\">\n",
       "      <th></th>\n",
       "      <th>text</th>\n",
       "      <th>label</th>\n",
       "    </tr>\n",
       "  </thead>\n",
       "  <tbody>\n",
       "    <tr>\n",
       "      <th>0</th>\n",
       "      <td>fuck u \\n\\nIf you our gonna make a list make s...</td>\n",
       "      <td>1</td>\n",
       "    </tr>\n",
       "    <tr>\n",
       "      <th>1</th>\n",
       "      <td>live your life to the fungas max.</td>\n",
       "      <td>0</td>\n",
       "    </tr>\n",
       "    <tr>\n",
       "      <th>2</th>\n",
       "      <td>I smell like octopus poo and wee</td>\n",
       "      <td>0</td>\n",
       "    </tr>\n",
       "    <tr>\n",
       "      <th>3</th>\n",
       "      <td>\"\\nSupport - Article is well written but too l...</td>\n",
       "      <td>0</td>\n",
       "    </tr>\n",
       "    <tr>\n",
       "      <th>4</th>\n",
       "      <td>, 9 April 2008 (UTC)\\n*cuts a loud fart* 136.1...</td>\n",
       "      <td>1</td>\n",
       "    </tr>\n",
       "  </tbody>\n",
       "</table>\n",
       "</div>"
      ]
     },
     "execution_count": 16,
     "metadata": {},
     "output_type": "execute_result"
    }
   ],
   "execution_count": 16
  },
  {
   "metadata": {
    "ExecuteTime": {
     "end_time": "2024-05-11T20:02:33.447852Z",
     "start_time": "2024-05-11T20:02:33.425700Z"
    }
   },
   "cell_type": "code",
   "source": "df.info()",
   "id": "c5bdb4c169f99f22",
   "outputs": [
    {
     "name": "stdout",
     "output_type": "stream",
     "text": [
      "<class 'pandas.core.frame.DataFrame'>\n",
      "RangeIndex: 20000 entries, 0 to 19999\n",
      "Data columns (total 2 columns):\n",
      " #   Column  Non-Null Count  Dtype \n",
      "---  ------  --------------  ----- \n",
      " 0   text    20000 non-null  object\n",
      " 1   label   20000 non-null  int64 \n",
      "dtypes: int64(1), object(1)\n",
      "memory usage: 312.6+ KB\n"
     ]
    }
   ],
   "execution_count": 17
  },
  {
   "metadata": {
    "ExecuteTime": {
     "end_time": "2024-05-11T20:02:33.645644Z",
     "start_time": "2024-05-11T20:02:33.448983Z"
    }
   },
   "cell_type": "code",
   "source": [
    "# Split the data\n",
    "train_df, test_df = train_test_split(df, test_size=0.2, random_state=42)\n",
    "\n",
    "# Save as jsonl\n",
    "def save_as_jsonl(dataframe, filename):\n",
    "    records = dataframe.to_dict(orient='records')\n",
    "    with open(filename, 'w') as f:\n",
    "        for record in records:\n",
    "            f.write(json.dumps(record) + '\\n')\n",
    "\n",
    "# Convert to JSON Lines and save\n",
    "save_as_jsonl(train_df, '../data/toxic/train.jsonl')\n",
    "save_as_jsonl(test_df, '../data/toxic/test.jsonl')\n"
   ],
   "id": "f1b830f80e0f52b",
   "outputs": [],
   "execution_count": 18
  }
 ],
 "metadata": {
  "kernelspec": {
   "display_name": "Python 3",
   "language": "python",
   "name": "python3"
  },
  "language_info": {
   "codemirror_mode": {
    "name": "ipython",
    "version": 2
   },
   "file_extension": ".py",
   "mimetype": "text/x-python",
   "name": "python",
   "nbconvert_exporter": "python",
   "pygments_lexer": "ipython2",
   "version": "2.7.6"
  }
 },
 "nbformat": 4,
 "nbformat_minor": 5
}
